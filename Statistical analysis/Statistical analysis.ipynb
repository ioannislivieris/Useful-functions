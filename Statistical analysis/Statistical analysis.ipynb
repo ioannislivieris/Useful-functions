{
 "cells": [
  {
   "cell_type": "markdown",
   "metadata": {},
   "source": [
    "# Libraries"
   ]
  },
  {
   "cell_type": "code",
   "execution_count": 1,
   "metadata": {},
   "outputs": [],
   "source": [
    "import warnings\n",
    "warnings.filterwarnings(\"ignore\")"
   ]
  },
  {
   "cell_type": "code",
   "execution_count": 2,
   "metadata": {},
   "outputs": [],
   "source": [
    "# =-=-=-=-=-=-=-=-=-=-=-=-=-=-=-=-=-=-=-=-=-=-=-=-=-=-=-=-=-=-=-=-=-=-=-=-=-=\n",
    "# Basic libraries\n",
    "#\n",
    "import time\n",
    "import pandas    as pd\n",
    "import numpy     as np\n",
    "from   tqdm      import tqdm\n",
    "\n",
    "\n",
    "# =-=-=-=-=-=-=-=-=-=-=-=-=-=-=-=-=-=-=-=-=-=-=-=-=-=-=-=-=-=-=-=-=-=-=-=-=-=\n",
    "# Visualization library\n",
    "#\n",
    "import matplotlib.pyplot   as plt \n",
    "\n",
    "\n",
    "\n",
    "# =-=-=-=-=-=-=-=-=-=-=-=-=-=-=-=-=-=-=-=-=-=-=-=-=-=-=-=-=-=-=-=-=-=-=-=-=-=-=-=-=-=-=-=-=-=-=-=-=-=-=-=-=-=-=-=-=-=-=-=-=-=-=-=-=-=-=-=-=-=-=-=-=-=-=-=-=\n",
    "#\n",
    "# User libraries\n",
    "#\n",
    "from utils.non_parametric_tests import *"
   ]
  },
  {
   "cell_type": "markdown",
   "metadata": {},
   "source": [
    "# Import data"
   ]
  },
  {
   "cell_type": "code",
   "execution_count": 3,
   "metadata": {},
   "outputs": [
    {
     "data": {
      "text/html": [
       "<div>\n",
       "<style scoped>\n",
       "    .dataframe tbody tr th:only-of-type {\n",
       "        vertical-align: middle;\n",
       "    }\n",
       "\n",
       "    .dataframe tbody tr th {\n",
       "        vertical-align: top;\n",
       "    }\n",
       "\n",
       "    .dataframe thead th {\n",
       "        text-align: right;\n",
       "    }\n",
       "</style>\n",
       "<table border=\"1\" class=\"dataframe\">\n",
       "  <thead>\n",
       "    <tr style=\"text-align: right;\">\n",
       "      <th></th>\n",
       "      <th>Method 1</th>\n",
       "      <th>Method 2</th>\n",
       "      <th>Method 3</th>\n",
       "      <th>Method 4</th>\n",
       "    </tr>\n",
       "  </thead>\n",
       "  <tbody>\n",
       "    <tr>\n",
       "      <th>0</th>\n",
       "      <td>0.021057</td>\n",
       "      <td>0.111950</td>\n",
       "      <td>0.179469</td>\n",
       "      <td>0.947590</td>\n",
       "    </tr>\n",
       "    <tr>\n",
       "      <th>1</th>\n",
       "      <td>0.900340</td>\n",
       "      <td>0.154557</td>\n",
       "      <td>0.353351</td>\n",
       "      <td>0.130969</td>\n",
       "    </tr>\n",
       "    <tr>\n",
       "      <th>2</th>\n",
       "      <td>0.024002</td>\n",
       "      <td>0.826815</td>\n",
       "      <td>0.967837</td>\n",
       "      <td>0.154635</td>\n",
       "    </tr>\n",
       "  </tbody>\n",
       "</table>\n",
       "</div>"
      ],
      "text/plain": [
       "   Method 1  Method 2  Method 3  Method 4\n",
       "0  0.021057  0.111950  0.179469  0.947590\n",
       "1  0.900340  0.154557  0.353351  0.130969\n",
       "2  0.024002  0.826815  0.967837  0.154635"
      ]
     },
     "execution_count": 3,
     "metadata": {},
     "output_type": "execute_result"
    }
   ],
   "source": [
    "df = pd.DataFrame([])\n",
    "nProblems = 100\n",
    "\n",
    "df['Method 1'] = np.random.rand(nProblems)\n",
    "df['Method 2'] = np.random.rand(nProblems)\n",
    "df['Method 3'] = np.random.rand(nProblems)\n",
    "df['Method 4'] = np.random.rand(nProblems)\n",
    "\n",
    "df.head( 3 )"
   ]
  },
  {
   "cell_type": "markdown",
   "metadata": {},
   "source": [
    "# Statistical analysis"
   ]
  },
  {
   "cell_type": "markdown",
   "metadata": {},
   "source": [
    "## Friedman Aligned Rankings"
   ]
  },
  {
   "cell_type": "code",
   "execution_count": 4,
   "metadata": {},
   "outputs": [
    {
     "name": "stdout",
     "output_type": "stream",
     "text": [
      "[INFO] Number of methods:   4\n",
      "[INFO] Number of problems:  100\n",
      "[INFO] FAR: 2.982 (p-value: 0.39440)\n"
     ]
    }
   ],
   "source": [
    "T, p_value, rankings_avg, rankings_cmp = friedman_aligned_ranks_test( df )\n",
    "\n",
    "print('[INFO] FAR: %.3f (p-value: %.5f)' % (T, p_value))\n",
    "\n",
    "d = {}\n",
    "for i, feature in enumerate(df.columns):\n",
    "    d[ feature ] = rankings_cmp[i] "
   ]
  },
  {
   "cell_type": "code",
   "execution_count": 5,
   "metadata": {},
   "outputs": [
    {
     "data": {
      "text/html": [
       "<div>\n",
       "<style scoped>\n",
       "    .dataframe tbody tr th:only-of-type {\n",
       "        vertical-align: middle;\n",
       "    }\n",
       "\n",
       "    .dataframe tbody tr th {\n",
       "        vertical-align: top;\n",
       "    }\n",
       "\n",
       "    .dataframe thead th {\n",
       "        text-align: right;\n",
       "    }\n",
       "</style>\n",
       "<table border=\"1\" class=\"dataframe\">\n",
       "  <thead>\n",
       "    <tr style=\"text-align: right;\">\n",
       "      <th></th>\n",
       "      <th>Methods</th>\n",
       "      <th>FAR</th>\n",
       "    </tr>\n",
       "  </thead>\n",
       "  <tbody>\n",
       "    <tr>\n",
       "      <th>3</th>\n",
       "      <td>Method 4</td>\n",
       "      <td>188.12</td>\n",
       "    </tr>\n",
       "    <tr>\n",
       "      <th>2</th>\n",
       "      <td>Method 3</td>\n",
       "      <td>196.56</td>\n",
       "    </tr>\n",
       "    <tr>\n",
       "      <th>0</th>\n",
       "      <td>Method 1</td>\n",
       "      <td>198.06</td>\n",
       "    </tr>\n",
       "    <tr>\n",
       "      <th>1</th>\n",
       "      <td>Method 2</td>\n",
       "      <td>219.26</td>\n",
       "    </tr>\n",
       "  </tbody>\n",
       "</table>\n",
       "</div>"
      ],
      "text/plain": [
       "    Methods     FAR\n",
       "3  Method 4  188.12\n",
       "2  Method 3  196.56\n",
       "0  Method 1  198.06\n",
       "1  Method 2  219.26"
      ]
     },
     "execution_count": 5,
     "metadata": {},
     "output_type": "execute_result"
    }
   ],
   "source": [
    "Ranking = pd.DataFrame( [] )\n",
    "Ranking['Methods'] = df.columns\n",
    "Ranking['FAR']     = rankings_avg\n",
    "\n",
    "Ranking.sort_values(by = 'FAR')"
   ]
  },
  {
   "cell_type": "markdown",
   "metadata": {},
   "source": [
    "## Finner post-hoc test"
   ]
  },
  {
   "cell_type": "code",
   "execution_count": 6,
   "metadata": {},
   "outputs": [
    {
     "name": "stdout",
     "output_type": "stream",
     "text": [
      "[INFO] Control method:  Method 4\n"
     ]
    },
    {
     "data": {
      "text/html": [
       "<div>\n",
       "<style scoped>\n",
       "    .dataframe tbody tr th:only-of-type {\n",
       "        vertical-align: middle;\n",
       "    }\n",
       "\n",
       "    .dataframe tbody tr th {\n",
       "        vertical-align: top;\n",
       "    }\n",
       "\n",
       "    .dataframe thead th {\n",
       "        text-align: right;\n",
       "    }\n",
       "</style>\n",
       "<table border=\"1\" class=\"dataframe\">\n",
       "  <thead>\n",
       "    <tr style=\"text-align: right;\">\n",
       "      <th></th>\n",
       "      <th>Comparisons</th>\n",
       "      <th>APV</th>\n",
       "      <th>Null hypothesis</th>\n",
       "    </tr>\n",
       "  </thead>\n",
       "  <tbody>\n",
       "    <tr>\n",
       "      <th>0</th>\n",
       "      <td>Method 4 vs Method 2</td>\n",
       "      <td>0.161008</td>\n",
       "      <td>Failed to reject</td>\n",
       "    </tr>\n",
       "    <tr>\n",
       "      <th>1</th>\n",
       "      <td>Method 4 vs Method 1</td>\n",
       "      <td>0.691291</td>\n",
       "      <td>Failed to reject</td>\n",
       "    </tr>\n",
       "    <tr>\n",
       "      <th>2</th>\n",
       "      <td>Method 4 vs Method 3</td>\n",
       "      <td>0.691291</td>\n",
       "      <td>Failed to reject</td>\n",
       "    </tr>\n",
       "  </tbody>\n",
       "</table>\n",
       "</div>"
      ],
      "text/plain": [
       "            Comparisons       APV   Null hypothesis\n",
       "0  Method 4 vs Method 2  0.161008  Failed to reject\n",
       "1  Method 4 vs Method 1  0.691291  Failed to reject\n",
       "2  Method 4 vs Method 3  0.691291  Failed to reject"
      ]
     },
     "execution_count": 6,
     "metadata": {},
     "output_type": "execute_result"
    }
   ],
   "source": [
    "comparisons, z_values, p_values, adj_p_values = finner_test( d )\n",
    "\n",
    "Finner = pd.DataFrame( [] )\n",
    "Finner['Comparisons']     = comparisons\n",
    "Finner['APV']             = adj_p_values\n",
    "Finner['Null hypothesis'] = Finner['APV'].apply(lambda x: 'Rejected' if x < 0.05 else 'Failed to reject')\n",
    "\n",
    "Finner"
   ]
  },
  {
   "cell_type": "markdown",
   "metadata": {},
   "source": [
    "# Finner-multitest post-hoc test"
   ]
  },
  {
   "cell_type": "code",
   "execution_count": 7,
   "metadata": {},
   "outputs": [
    {
     "data": {
      "text/html": [
       "<div>\n",
       "<style scoped>\n",
       "    .dataframe tbody tr th:only-of-type {\n",
       "        vertical-align: middle;\n",
       "    }\n",
       "\n",
       "    .dataframe tbody tr th {\n",
       "        vertical-align: top;\n",
       "    }\n",
       "\n",
       "    .dataframe thead th {\n",
       "        text-align: right;\n",
       "    }\n",
       "</style>\n",
       "<table border=\"1\" class=\"dataframe\">\n",
       "  <thead>\n",
       "    <tr style=\"text-align: right;\">\n",
       "      <th></th>\n",
       "      <th>Comparisons</th>\n",
       "      <th>APV</th>\n",
       "      <th>Null hypothesis</th>\n",
       "    </tr>\n",
       "  </thead>\n",
       "  <tbody>\n",
       "    <tr>\n",
       "      <th>0</th>\n",
       "      <td>Method 2 vs Method 4</td>\n",
       "      <td>0.296092</td>\n",
       "      <td>Failed to reject</td>\n",
       "    </tr>\n",
       "    <tr>\n",
       "      <th>1</th>\n",
       "      <td>Method 2 vs Method 3</td>\n",
       "      <td>0.417880</td>\n",
       "      <td>Failed to reject</td>\n",
       "    </tr>\n",
       "    <tr>\n",
       "      <th>2</th>\n",
       "      <td>Method 1 vs Method 2</td>\n",
       "      <td>0.417880</td>\n",
       "      <td>Failed to reject</td>\n",
       "    </tr>\n",
       "    <tr>\n",
       "      <th>3</th>\n",
       "      <td>Method 1 vs Method 4</td>\n",
       "      <td>0.691291</td>\n",
       "      <td>Failed to reject</td>\n",
       "    </tr>\n",
       "    <tr>\n",
       "      <th>4</th>\n",
       "      <td>Method 3 vs Method 4</td>\n",
       "      <td>0.691291</td>\n",
       "      <td>Failed to reject</td>\n",
       "    </tr>\n",
       "    <tr>\n",
       "      <th>5</th>\n",
       "      <td>Method 1 vs Method 3</td>\n",
       "      <td>0.926904</td>\n",
       "      <td>Failed to reject</td>\n",
       "    </tr>\n",
       "  </tbody>\n",
       "</table>\n",
       "</div>"
      ],
      "text/plain": [
       "            Comparisons       APV   Null hypothesis\n",
       "0  Method 2 vs Method 4  0.296092  Failed to reject\n",
       "1  Method 2 vs Method 3  0.417880  Failed to reject\n",
       "2  Method 1 vs Method 2  0.417880  Failed to reject\n",
       "3  Method 1 vs Method 4  0.691291  Failed to reject\n",
       "4  Method 3 vs Method 4  0.691291  Failed to reject\n",
       "5  Method 1 vs Method 3  0.926904  Failed to reject"
      ]
     },
     "execution_count": 7,
     "metadata": {},
     "output_type": "execute_result"
    }
   ],
   "source": [
    "comparisons, z_values, p_values, adj_p_values = finner_multitest(d)\n",
    "\n",
    "Finner = pd.DataFrame( [] )\n",
    "Finner['Comparisons']     = comparisons\n",
    "Finner['APV']             = adj_p_values\n",
    "Finner['Null hypothesis'] = Finner['APV'].apply(lambda x: 'Rejected' if x < 0.05 else 'Failed to reject')\n",
    "\n",
    "Finner"
   ]
  },
  {
   "cell_type": "markdown",
   "metadata": {},
   "source": [
    "# Performance profiles"
   ]
  },
  {
   "cell_type": "code",
   "execution_count": 8,
   "metadata": {},
   "outputs": [],
   "source": [
    "from utils.PerformanceProfiles import *"
   ]
  },
  {
   "cell_type": "code",
   "execution_count": 9,
   "metadata": {},
   "outputs": [
    {
     "name": "stdout",
     "output_type": "stream",
     "text": [
      "            Method 1 solved 25.00% of cases with the best(least) score\n",
      "            Method 2 solved 24.00% of cases with the best(least) score\n",
      "            Method 3 solved 24.00% of cases with the best(least) score\n",
      "            Method 4 solved 26.00% of cases with the best(least) score\n"
     ]
    },
    {
     "data": {
      "image/png": "[encoded data removed]",
      "text/plain": [
       "<Figure size 576x432 with 1 Axes>"
      ]
     },
     "metadata": {
      "needs_background": "light"
     },
     "output_type": "display_data"
    }
   ],
   "source": [
    "perfprof(df, \n",
    "         linespecs = ['r-', 'b-', 'g--', 'c-.'], \n",
    "         digit = 3,\n",
    "         legendnames = df.columns,\n",
    "         thmax = 100, figsize = (8, 6))\n",
    "\n",
    "plt.xscale('log')"
   ]
  },
  {
   "cell_type": "code",
   "execution_count": null,
   "metadata": {},
   "outputs": [],
   "source": []
  },
  {
   "cell_type": "code",
   "execution_count": null,
   "metadata": {},
   "outputs": [],
   "source": []
  }
 ],
 "metadata": {
  "kernelspec": {
   "display_name": "Python [conda env:Forecasting]",
   "language": "python",
   "name": "conda-env-Forecasting-py"
  },
  "language_info": {
   "codemirror_mode": {
    "name": "ipython",
    "version": 3
   },
   "file_extension": ".py",
   "mimetype": "text/x-python",
   "name": "python",
   "nbconvert_exporter": "python",
   "pygments_lexer": "ipython3",
   "version": "3.7.10"
  },
  "toc": {
   "base_numbering": 1,
   "nav_menu": {},
   "number_sections": true,
   "sideBar": true,
   "skip_h1_title": false,
   "title_cell": "Table of Contents",
   "title_sidebar": "Contents",
   "toc_cell": false,
   "toc_position": {},
   "toc_section_display": true,
   "toc_window_display": false
  }
 },
 "nbformat": 4,
 "nbformat_minor": 4
}
